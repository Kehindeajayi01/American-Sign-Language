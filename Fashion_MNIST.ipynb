{
  "nbformat": 4,
  "nbformat_minor": 0,
  "metadata": {
    "colab": {
      "name": "Fashion_MNIST.ipynb",
      "provenance": [],
      "collapsed_sections": [],
      "authorship_tag": "ABX9TyMU32Tap1QiJ5gpZV9ZyR1n",
      "include_colab_link": true
    },
    "kernelspec": {
      "name": "python3",
      "display_name": "Python 3"
    }
  },
  "cells": [
    {
      "cell_type": "markdown",
      "metadata": {
        "id": "view-in-github",
        "colab_type": "text"
      },
      "source": [
        "<a href=\"https://colab.research.google.com/github/Kehindeajayi01/American-Sign-Language/blob/master/Fashion_MNIST.ipynb\" target=\"_parent\"><img src=\"https://colab.research.google.com/assets/colab-badge.svg\" alt=\"Open In Colab\"/></a>"
      ]
    },
    {
      "cell_type": "markdown",
      "metadata": {
        "id": "x7fWovnkkvWq",
        "colab_type": "text"
      },
      "source": [
        "## Load the data from the datasets in tensorflow"
      ]
    },
    {
      "cell_type": "code",
      "metadata": {
        "id": "9LpqmTc5kMLK",
        "colab_type": "code",
        "colab": {}
      },
      "source": [
        "import tensorflow as tf\n",
        "from tensorflow import keras\n",
        "\n",
        "from keras.datasets import fashion_mnist\n",
        "\n",
        "(train_images, train_labels), (test_images, test_labels) = fashion_mnist.load_data()"
      ],
      "execution_count": 0,
      "outputs": []
    },
    {
      "cell_type": "markdown",
      "metadata": {
        "id": "TlGj_HugloRx",
        "colab_type": "text"
      },
      "source": [
        "## Explore the data\n",
        "- Check the shape of the training and test data\n",
        "- view at least one image in the data"
      ]
    },
    {
      "cell_type": "code",
      "metadata": {
        "id": "HVGy-6hdkhjc",
        "colab_type": "code",
        "outputId": "f32e8657-fd9c-42ec-c454-eaabdd1b288e",
        "colab": {
          "base_uri": "https://localhost:8080/",
          "height": 316
        }
      },
      "source": [
        "import numpy as np\n",
        "import matplotlib.pyplot as plt\n",
        "\n",
        "train_images.shape, train_labels.shape, train_images[0][:5]"
      ],
      "execution_count": 3,
      "outputs": [
        {
          "output_type": "execute_result",
          "data": {
            "text/plain": [
              "((60000, 28, 28),\n",
              " (60000,),\n",
              " array([[  0,   0,   0,   0,   0,   0,   0,   0,   0,   0,   0,   0,   0,\n",
              "           0,   0,   0,   0,   0,   0,   0,   0,   0,   0,   0,   0,   0,\n",
              "           0,   0],\n",
              "        [  0,   0,   0,   0,   0,   0,   0,   0,   0,   0,   0,   0,   0,\n",
              "           0,   0,   0,   0,   0,   0,   0,   0,   0,   0,   0,   0,   0,\n",
              "           0,   0],\n",
              "        [  0,   0,   0,   0,   0,   0,   0,   0,   0,   0,   0,   0,   0,\n",
              "           0,   0,   0,   0,   0,   0,   0,   0,   0,   0,   0,   0,   0,\n",
              "           0,   0],\n",
              "        [  0,   0,   0,   0,   0,   0,   0,   0,   0,   0,   0,   0,   1,\n",
              "           0,   0,  13,  73,   0,   0,   1,   4,   0,   0,   0,   0,   1,\n",
              "           1,   0],\n",
              "        [  0,   0,   0,   0,   0,   0,   0,   0,   0,   0,   0,   0,   3,\n",
              "           0,  36, 136, 127,  62,  54,   0,   0,   0,   1,   3,   4,   0,\n",
              "           0,   3]], dtype=uint8))"
            ]
          },
          "metadata": {
            "tags": []
          },
          "execution_count": 3
        }
      ]
    },
    {
      "cell_type": "markdown",
      "metadata": {
        "id": "ZWkLx9vdsyyj",
        "colab_type": "text"
      },
      "source": [
        "## Preprocess the training and test images\n",
        "- The images are stored as integers from 1 to 255\n",
        "- We convert it to a float\n",
        "- We convert it to [0, 1]\n",
        "- We can visualize the images "
      ]
    },
    {
      "cell_type": "code",
      "metadata": {
        "id": "HNOgoIBHmW5e",
        "colab_type": "code",
        "colab": {}
      },
      "source": [
        "class_names = ['T-shirt/top', 'Trouser', 'Pullover', 'Dress', 'Coat',\n",
        "               'Sandal', 'Shirt', 'Sneaker', 'Bag', 'Ankle boot']  # store the target names of the images"
      ],
      "execution_count": 0,
      "outputs": []
    },
    {
      "cell_type": "code",
      "metadata": {
        "id": "LMRwr1Ipm5xt",
        "colab_type": "code",
        "outputId": "a14e3701-4b89-4e06-f7cb-f6846c5658c8",
        "colab": {
          "base_uri": "https://localhost:8080/",
          "height": 589
        }
      },
      "source": [
        "train_images = train_images.astype('float32')/255.0\n",
        "test_images = test_images.astype('float32')/255.0\n",
        "\n",
        "plt.figure(figsize = (10, 10))\n",
        "for i in range(25):\n",
        "  plt.subplot(5, 5, i + 1)\n",
        "  plt.grid(False)\n",
        "  plt.xticks([])\n",
        "  plt.yticks([])\n",
        "  plt.imshow(train_images[i], cmap = plt.cm.binary)\n",
        "  plt.xlabel(class_names[train_labels[i]])\n",
        "plt.show()\n"
      ],
      "execution_count": 6,
      "outputs": [
        {
          "output_type": "display_data",
          "data": {
            "image/png": "[encoded data removed]",
            "text/plain": [
              "<Figure size 720x720 with 25 Axes>"
            ]
          },
          "metadata": {
            "tags": []
          }
        }
      ]
    },
    {
      "cell_type": "markdown",
      "metadata": {
        "id": "_YhRXXx00nmE",
        "colab_type": "text"
      },
      "source": [
        "## Build the architecture\n",
        "- Create the model\n",
        "- Add fully connected layers including the output layer"
      ]
    },
    {
      "cell_type": "code",
      "metadata": {
        "id": "0fNsK7hl1NFB",
        "colab_type": "code",
        "colab": {}
      },
      "source": [
        "from keras.models import Sequential\n",
        "from keras.layers import Dense, Flatten\n",
        "\n",
        "model = Sequential([\n",
        "                    Flatten(input_shape = (28, 28)),\n",
        "                    Dense(128, activation = 'relu'),\n",
        "                    Dense(128, activation = 'relu'),\n",
        "                    Dense(10, activation = 'softmax')\n",
        "])"
      ],
      "execution_count": 0,
      "outputs": []
    },
    {
      "cell_type": "markdown",
      "metadata": {
        "id": "NFbt8Bp-2oQE",
        "colab_type": "text"
      },
      "source": [
        "## Compile the model\n",
        "- Specify the optimizer (e.g. adam, rmsprop)\n",
        "- Specify the loss (categorical_crossentropy)\n",
        "- Specify the metrics (accuracy)"
      ]
    },
    {
      "cell_type": "code",
      "metadata": {
        "id": "tuFuYNgf3SDI",
        "colab_type": "code",
        "colab": {}
      },
      "source": [
        "model.compile(optimizer = 'adam',\n",
        "              loss = 'categorical_crossentropy',\n",
        "              metrics = ['accuracy'])"
      ],
      "execution_count": 0,
      "outputs": []
    },
    {
      "cell_type": "markdown",
      "metadata": {
        "id": "n9R7orpe3_yC",
        "colab_type": "text"
      },
      "source": [
        "## Fit the model and Evaluate it on the test data\n",
        "- Specify the epochs\n",
        "- Specify the batch size"
      ]
    },
    {
      "cell_type": "code",
      "metadata": {
        "id": "rRK3x2nd4S05",
        "colab_type": "code",
        "outputId": "8826fe63-e0c4-469a-f077-e3d5f60a4bbc",
        "colab": {
          "base_uri": "https://localhost:8080/",
          "height": 386
        }
      },
      "source": [
        "from keras.utils import to_categorical\n",
        "train_labels = to_categorical(train_labels)\n",
        "test_labels = to_categorical(test_labels)\n",
        "\n",
        "model.fit(train_images, train_labels, epochs = 10)"
      ],
      "execution_count": 0,
      "outputs": [
        {
          "output_type": "stream",
          "text": [
            "Epoch 1/10\n",
            "60000/60000 [==============================] - 8s 125us/step - loss: 0.8486 - acc: 0.6915\n",
            "Epoch 2/10\n",
            "60000/60000 [==============================] - 7s 117us/step - loss: 0.5579 - acc: 0.7972\n",
            "Epoch 3/10\n",
            "60000/60000 [==============================] - 7s 122us/step - loss: 0.4923 - acc: 0.8230\n",
            "Epoch 4/10\n",
            "60000/60000 [==============================] - 8s 125us/step - loss: 0.4519 - acc: 0.8375\n",
            "Epoch 5/10\n",
            "60000/60000 [==============================] - 7s 118us/step - loss: 0.4245 - acc: 0.8468\n",
            "Epoch 6/10\n",
            "60000/60000 [==============================] - 7s 117us/step - loss: 0.4063 - acc: 0.8534\n",
            "Epoch 7/10\n",
            "60000/60000 [==============================] - 7s 119us/step - loss: 0.3896 - acc: 0.8588\n",
            "Epoch 8/10\n",
            "60000/60000 [==============================] - 7s 120us/step - loss: 0.3790 - acc: 0.8628\n",
            "Epoch 9/10\n",
            "60000/60000 [==============================] - 7s 120us/step - loss: 0.3667 - acc: 0.8680\n",
            "Epoch 10/10\n",
            "60000/60000 [==============================] - 8s 125us/step - loss: 0.3574 - acc: 0.8704\n"
          ],
          "name": "stdout"
        },
        {
          "output_type": "execute_result",
          "data": {
            "text/plain": [
              "<keras.callbacks.History at 0x7f1f7b9e2198>"
            ]
          },
          "metadata": {
            "tags": []
          },
          "execution_count": 29
        }
      ]
    },
    {
      "cell_type": "markdown",
      "metadata": {
        "id": "UJZOHM2h6hpK",
        "colab_type": "text"
      },
      "source": [
        "## Evaluate the model"
      ]
    },
    {
      "cell_type": "code",
      "metadata": {
        "id": "wbtS-POq6qKw",
        "colab_type": "code",
        "outputId": "e4bb220a-13cc-4f60-df71-302a7089a7ff",
        "colab": {
          "base_uri": "https://localhost:8080/",
          "height": 52
        }
      },
      "source": [
        "test_loss, test_acc = model.evaluate(test_images, test_labels)\n",
        "print(\"Test accuracy: {:.3f}\".format(test_acc))"
      ],
      "execution_count": 0,
      "outputs": [
        {
          "output_type": "stream",
          "text": [
            "10000/10000 [==============================] - 0s 41us/step\n",
            "Test accuracy: 0.854\n"
          ],
          "name": "stdout"
        }
      ]
    },
    {
      "cell_type": "markdown",
      "metadata": {
        "id": "vR3Q1-T-1EuG",
        "colab_type": "text"
      },
      "source": [
        "## Using a basic Convolutional Neural Network for the same task\n",
        "- here, I want to use just three convnets and pooling layers before training a fully connected layers on it.\n",
        "- First, we need to reshape the images into 3D tensor of shape (height, width, and color_channel). Since the image is in black-and-white format, we use a color_channel of 1, else 3 for rgb.\n",
        "- We also convert it to a float ranging from 0 to 1."
      ]
    },
    {
      "cell_type": "code",
      "metadata": {
        "id": "xiq5M3pe1gha",
        "colab_type": "code",
        "colab": {}
      },
      "source": [
        "train_images = train_images.reshape((60000, 28, 28, 1))    # reshaping to a 3D shape\n",
        "train_images = train_images.astype('float32')/255  # converting to a float of range [0, 1]\n",
        "\n",
        "test_images = test_images.reshape((10000, 28, 28, 1))    # reshaping to a 3D shape\n",
        "test_images = test_images.astype('float32')/255  # converting to a float of range [0, 1]"
      ],
      "execution_count": 0,
      "outputs": []
    },
    {
      "cell_type": "markdown",
      "metadata": {
        "id": "EyZgQlRHkqGO",
        "colab_type": "text"
      },
      "source": [
        ""
      ]
    },
    {
      "cell_type": "markdown",
      "metadata": {
        "id": "GytebYFo3Hlk",
        "colab_type": "text"
      },
      "source": [
        "## Preprocess the labels\n",
        "- Here, we have 10 classes so we need to put the labels into 10 classes"
      ]
    },
    {
      "cell_type": "code",
      "metadata": {
        "id": "Th3Cgz-G3LxX",
        "colab_type": "code",
        "colab": {}
      },
      "source": [
        "from keras.utils import to_categorical\n",
        "\n",
        "train_labels = to_categorical(train_labels)\n",
        "test_labels = to_categorical(test_labels)"
      ],
      "execution_count": 0,
      "outputs": []
    },
    {
      "cell_type": "markdown",
      "metadata": {
        "id": "xSizKK253saL",
        "colab_type": "text"
      },
      "source": [
        "## Building our architectures"
      ]
    },
    {
      "cell_type": "code",
      "metadata": {
        "id": "CaVhHXN23zbj",
        "colab_type": "code",
        "colab": {
          "base_uri": "https://localhost:8080/",
          "height": 439
        },
        "outputId": "bfe8ee8a-7a41-40a4-9360-084183195724"
      },
      "source": [
        "from keras.layers import Conv2D, MaxPooling2D, Dense, Flatten\n",
        "from keras.models import Sequential\n",
        "\n",
        "model = Sequential([\n",
        "                    Conv2D(32, kernel_size = (3,3), activation = 'relu', input_shape = (28,28,1)),\n",
        "                    MaxPooling2D((2,2)),\n",
        "                    Conv2D(64, (3,3), activation = 'relu'),\n",
        "                    MaxPooling2D((2,2)),\n",
        "                    Conv2D(64, (3,3), activation = 'relu'),\n",
        "                    Flatten(),\n",
        "                    Dense(64, activation = 'relu'),\n",
        "                    Dense(10, activation = 'softmax')\n",
        "])\n",
        "model.summary()"
      ],
      "execution_count": 31,
      "outputs": [
        {
          "output_type": "stream",
          "text": [
            "Model: \"sequential_6\"\n",
            "_________________________________________________________________\n",
            "Layer (type)                 Output Shape              Param #   \n",
            "=================================================================\n",
            "conv2d_16 (Conv2D)           (None, 26, 26, 32)        320       \n",
            "_________________________________________________________________\n",
            "max_pooling2d_11 (MaxPooling (None, 13, 13, 32)        0         \n",
            "_________________________________________________________________\n",
            "conv2d_17 (Conv2D)           (None, 11, 11, 64)        18496     \n",
            "_________________________________________________________________\n",
            "max_pooling2d_12 (MaxPooling (None, 5, 5, 64)          0         \n",
            "_________________________________________________________________\n",
            "conv2d_18 (Conv2D)           (None, 3, 3, 64)          36928     \n",
            "_________________________________________________________________\n",
            "flatten_6 (Flatten)          (None, 576)               0         \n",
            "_________________________________________________________________\n",
            "dense_11 (Dense)             (None, 64)                36928     \n",
            "_________________________________________________________________\n",
            "dense_12 (Dense)             (None, 10)                650       \n",
            "=================================================================\n",
            "Total params: 93,322\n",
            "Trainable params: 93,322\n",
            "Non-trainable params: 0\n",
            "_________________________________________________________________\n"
          ],
          "name": "stdout"
        }
      ]
    },
    {
      "cell_type": "markdown",
      "metadata": {
        "id": "zSQq-3Ei6AXE",
        "colab_type": "text"
      },
      "source": [
        "## Compile the model"
      ]
    },
    {
      "cell_type": "code",
      "metadata": {
        "id": "yzS7s5R-6DjA",
        "colab_type": "code",
        "colab": {}
      },
      "source": [
        "model.compile(optimizer = 'rmsprop',\n",
        "              loss = 'categorical_crossentropy',\n",
        "              metrics = ['accuracy'])"
      ],
      "execution_count": 0,
      "outputs": []
    },
    {
      "cell_type": "markdown",
      "metadata": {
        "id": "sQGm8hCF6rqU",
        "colab_type": "text"
      },
      "source": [
        "## Fitting the model"
      ]
    },
    {
      "cell_type": "code",
      "metadata": {
        "id": "fG64i_0M6pKS",
        "colab_type": "code",
        "colab": {
          "base_uri": "https://localhost:8080/",
          "height": 210
        },
        "outputId": "8eaa7541-dbb2-4428-8475-c9bd1f4f1d2d"
      },
      "source": [
        "model.fit(train_images, train_labels, epochs = 5, batch_size = 64)"
      ],
      "execution_count": 33,
      "outputs": [
        {
          "output_type": "stream",
          "text": [
            "Epoch 1/5\n",
            "60000/60000 [==============================] - 48s 808us/step - loss: 0.5945 - acc: 0.7813\n",
            "Epoch 2/5\n",
            "60000/60000 [==============================] - 48s 807us/step - loss: 0.3742 - acc: 0.8627\n",
            "Epoch 3/5\n",
            "60000/60000 [==============================] - 48s 805us/step - loss: 0.3188 - acc: 0.8836\n",
            "Epoch 4/5\n",
            "60000/60000 [==============================] - 48s 799us/step - loss: 0.2961 - acc: 0.8933\n",
            "Epoch 5/5\n",
            "60000/60000 [==============================] - 48s 797us/step - loss: 0.2773 - acc: 0.9002\n"
          ],
          "name": "stdout"
        },
        {
          "output_type": "execute_result",
          "data": {
            "text/plain": [
              "<keras.callbacks.History at 0x7fb6d82fbc50>"
            ]
          },
          "metadata": {
            "tags": []
          },
          "execution_count": 33
        }
      ]
    },
    {
      "cell_type": "markdown",
      "metadata": {
        "id": "KsKPJSMC9oz7",
        "colab_type": "text"
      },
      "source": [
        "## Evaluate the model"
      ]
    },
    {
      "cell_type": "code",
      "metadata": {
        "id": "Yspyyjsb66Um",
        "colab_type": "code",
        "colab": {
          "base_uri": "https://localhost:8080/",
          "height": 52
        },
        "outputId": "cb664a20-877d-4adc-d9bf-34c1149d71b5"
      },
      "source": [
        "test_loss, test_acc = model.evaluate(test_images, test_labels)\n",
        "print(\"The test accuracy is: \", test_acc)"
      ],
      "execution_count": 35,
      "outputs": [
        {
          "output_type": "stream",
          "text": [
            "10000/10000 [==============================] - 3s 278us/step\n",
            "The test accuracy is:  0.8676\n"
          ],
          "name": "stdout"
        }
      ]
    },
    {
      "cell_type": "markdown",
      "metadata": {
        "id": "KVql--0k9mtN",
        "colab_type": "text"
      },
      "source": [
        ""
      ]
    }
  ]
}